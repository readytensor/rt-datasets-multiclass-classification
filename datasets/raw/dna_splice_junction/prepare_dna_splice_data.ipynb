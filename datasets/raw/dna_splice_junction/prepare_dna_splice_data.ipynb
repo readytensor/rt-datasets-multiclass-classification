{
 "cells": [
  {
   "cell_type": "code",
   "execution_count": 11,
   "id": "692de854",
   "metadata": {},
   "outputs": [],
   "source": [
    "import numpy as np\n",
    "import pandas as pd\n",
    "import os, sys"
   ]
  },
  {
   "cell_type": "code",
   "execution_count": 12,
   "id": "46711af1",
   "metadata": {},
   "outputs": [],
   "source": [
    "dataset_name = 'dna_splice_junction'\n",
    "inp_fname = 'splice.data'"
   ]
  },
  {
   "cell_type": "code",
   "execution_count": 13,
   "id": "e5994fbf",
   "metadata": {},
   "outputs": [],
   "source": [
    "input_dir = './data'\n",
    "output_dir = f'./../../processed/{dataset_name}/'\n",
    "outp_fname = os.path.join(output_dir, f'{dataset_name}.csv')"
   ]
  },
  {
   "cell_type": "markdown",
   "id": "a6290e1d",
   "metadata": {},
   "source": [
    "# Read Data"
   ]
  },
  {
   "cell_type": "code",
   "execution_count": 14,
   "id": "d50a0d49",
   "metadata": {},
   "outputs": [
    {
     "name": "stdout",
     "output_type": "stream",
     "text": [
      "['Class', 'Instance', 'Position_-30', 'Position_-29', 'Position_-28', 'Position_-27', 'Position_-26', 'Position_-25', 'Position_-24', 'Position_-23', 'Position_-22', 'Position_-21', 'Position_-20', 'Position_-19', 'Position_-18', 'Position_-17', 'Position_-16', 'Position_-15', 'Position_-14', 'Position_-13', 'Position_-12', 'Position_-11', 'Position_-10', 'Position_-9', 'Position_-8', 'Position_-7', 'Position_-6', 'Position_-5', 'Position_-4', 'Position_-3', 'Position_-2', 'Position_-1', 'Position_+1', 'Position_+2', 'Position_+3', 'Position_+4', 'Position_+5', 'Position_+6', 'Position_+7', 'Position_+8', 'Position_+9', 'Position_+10', 'Position_+11', 'Position_+12', 'Position_+13', 'Position_+14', 'Position_+15', 'Position_+16', 'Position_+17', 'Position_+18', 'Position_+19', 'Position_+20', 'Position_+21', 'Position_+22', 'Position_+23', 'Position_+24', 'Position_+25', 'Position_+26', 'Position_+27', 'Position_+28', 'Position_+29', 'Position_+30']\n"
     ]
    }
   ],
   "source": [
    "cols = [\n",
    "    \"Class\",\n",
    "    \"Instance\"\n",
    "] + [f\"Position_{i}\" for i in range(-30, 0)] + [f\"Position_+{i}\" for i in range(1, 31)]\n",
    "\n",
    "print(cols)"
   ]
  },
  {
   "cell_type": "code",
   "execution_count": 15,
   "id": "d6f0ffd8",
   "metadata": {
    "scrolled": true
   },
   "outputs": [
    {
     "data": {
      "text/html": [
       "<div>\n",
       "<style scoped>\n",
       "    .dataframe tbody tr th:only-of-type {\n",
       "        vertical-align: middle;\n",
       "    }\n",
       "\n",
       "    .dataframe tbody tr th {\n",
       "        vertical-align: top;\n",
       "    }\n",
       "\n",
       "    .dataframe thead th {\n",
       "        text-align: right;\n",
       "    }\n",
       "</style>\n",
       "<table border=\"1\" class=\"dataframe\">\n",
       "  <thead>\n",
       "    <tr style=\"text-align: right;\">\n",
       "      <th></th>\n",
       "      <th>Class</th>\n",
       "      <th>Instance</th>\n",
       "      <th>Position_-30</th>\n",
       "      <th>Position_-29</th>\n",
       "      <th>Position_-28</th>\n",
       "      <th>Position_-27</th>\n",
       "      <th>Position_-26</th>\n",
       "      <th>Position_-25</th>\n",
       "      <th>Position_-24</th>\n",
       "      <th>Position_-23</th>\n",
       "      <th>...</th>\n",
       "      <th>Position_+21</th>\n",
       "      <th>Position_+22</th>\n",
       "      <th>Position_+23</th>\n",
       "      <th>Position_+24</th>\n",
       "      <th>Position_+25</th>\n",
       "      <th>Position_+26</th>\n",
       "      <th>Position_+27</th>\n",
       "      <th>Position_+28</th>\n",
       "      <th>Position_+29</th>\n",
       "      <th>Position_+30</th>\n",
       "    </tr>\n",
       "  </thead>\n",
       "  <tbody>\n",
       "    <tr>\n",
       "      <th>0</th>\n",
       "      <td>EI</td>\n",
       "      <td>ATRINS-DONOR-521</td>\n",
       "      <td>C</td>\n",
       "      <td>C</td>\n",
       "      <td>A</td>\n",
       "      <td>G</td>\n",
       "      <td>C</td>\n",
       "      <td>T</td>\n",
       "      <td>G</td>\n",
       "      <td>C</td>\n",
       "      <td>...</td>\n",
       "      <td>A</td>\n",
       "      <td>G</td>\n",
       "      <td>C</td>\n",
       "      <td>C</td>\n",
       "      <td>A</td>\n",
       "      <td>G</td>\n",
       "      <td>T</td>\n",
       "      <td>C</td>\n",
       "      <td>T</td>\n",
       "      <td>G</td>\n",
       "    </tr>\n",
       "    <tr>\n",
       "      <th>1</th>\n",
       "      <td>EI</td>\n",
       "      <td>ATRINS-DONOR-905</td>\n",
       "      <td>A</td>\n",
       "      <td>G</td>\n",
       "      <td>A</td>\n",
       "      <td>C</td>\n",
       "      <td>C</td>\n",
       "      <td>C</td>\n",
       "      <td>G</td>\n",
       "      <td>C</td>\n",
       "      <td>...</td>\n",
       "      <td>G</td>\n",
       "      <td>T</td>\n",
       "      <td>G</td>\n",
       "      <td>C</td>\n",
       "      <td>C</td>\n",
       "      <td>C</td>\n",
       "      <td>C</td>\n",
       "      <td>C</td>\n",
       "      <td>G</td>\n",
       "      <td>C</td>\n",
       "    </tr>\n",
       "    <tr>\n",
       "      <th>2</th>\n",
       "      <td>EI</td>\n",
       "      <td>BABAPOE-DONOR-30</td>\n",
       "      <td>G</td>\n",
       "      <td>A</td>\n",
       "      <td>G</td>\n",
       "      <td>G</td>\n",
       "      <td>T</td>\n",
       "      <td>G</td>\n",
       "      <td>A</td>\n",
       "      <td>A</td>\n",
       "      <td>...</td>\n",
       "      <td>C</td>\n",
       "      <td>A</td>\n",
       "      <td>C</td>\n",
       "      <td>G</td>\n",
       "      <td>G</td>\n",
       "      <td>G</td>\n",
       "      <td>G</td>\n",
       "      <td>A</td>\n",
       "      <td>T</td>\n",
       "      <td>G</td>\n",
       "    </tr>\n",
       "    <tr>\n",
       "      <th>3</th>\n",
       "      <td>EI</td>\n",
       "      <td>BABAPOE-DONOR-867</td>\n",
       "      <td>G</td>\n",
       "      <td>G</td>\n",
       "      <td>G</td>\n",
       "      <td>C</td>\n",
       "      <td>T</td>\n",
       "      <td>G</td>\n",
       "      <td>C</td>\n",
       "      <td>G</td>\n",
       "      <td>...</td>\n",
       "      <td>G</td>\n",
       "      <td>G</td>\n",
       "      <td>T</td>\n",
       "      <td>T</td>\n",
       "      <td>T</td>\n",
       "      <td>T</td>\n",
       "      <td>C</td>\n",
       "      <td>C</td>\n",
       "      <td>C</td>\n",
       "      <td>C</td>\n",
       "    </tr>\n",
       "    <tr>\n",
       "      <th>4</th>\n",
       "      <td>EI</td>\n",
       "      <td>BABAPOE-DONOR-2817</td>\n",
       "      <td>G</td>\n",
       "      <td>C</td>\n",
       "      <td>T</td>\n",
       "      <td>C</td>\n",
       "      <td>A</td>\n",
       "      <td>G</td>\n",
       "      <td>C</td>\n",
       "      <td>C</td>\n",
       "      <td>...</td>\n",
       "      <td>C</td>\n",
       "      <td>C</td>\n",
       "      <td>T</td>\n",
       "      <td>T</td>\n",
       "      <td>G</td>\n",
       "      <td>A</td>\n",
       "      <td>C</td>\n",
       "      <td>C</td>\n",
       "      <td>C</td>\n",
       "      <td>T</td>\n",
       "    </tr>\n",
       "  </tbody>\n",
       "</table>\n",
       "<p>5 rows × 62 columns</p>\n",
       "</div>"
      ],
      "text/plain": [
       "  Class            Instance Position_-30 Position_-29 Position_-28  \\\n",
       "0    EI    ATRINS-DONOR-521            C            C            A   \n",
       "1    EI    ATRINS-DONOR-905            A            G            A   \n",
       "2    EI    BABAPOE-DONOR-30            G            A            G   \n",
       "3    EI   BABAPOE-DONOR-867            G            G            G   \n",
       "4    EI  BABAPOE-DONOR-2817            G            C            T   \n",
       "\n",
       "  Position_-27 Position_-26 Position_-25 Position_-24 Position_-23  ...  \\\n",
       "0            G            C            T            G            C  ...   \n",
       "1            C            C            C            G            C  ...   \n",
       "2            G            T            G            A            A  ...   \n",
       "3            C            T            G            C            G  ...   \n",
       "4            C            A            G            C            C  ...   \n",
       "\n",
       "  Position_+21 Position_+22 Position_+23 Position_+24 Position_+25  \\\n",
       "0            A            G            C            C            A   \n",
       "1            G            T            G            C            C   \n",
       "2            C            A            C            G            G   \n",
       "3            G            G            T            T            T   \n",
       "4            C            C            T            T            G   \n",
       "\n",
       "  Position_+26 Position_+27 Position_+28 Position_+29 Position_+30  \n",
       "0            G            T            C            T            G  \n",
       "1            C            C            C            G            C  \n",
       "2            G            G            A            T            G  \n",
       "3            T            C            C            C            C  \n",
       "4            A            C            C            C            T  \n",
       "\n",
       "[5 rows x 62 columns]"
      ]
     },
     "execution_count": 15,
     "metadata": {},
     "output_type": "execute_result"
    }
   ],
   "source": [
    "# read file and prep data\n",
    "path = os.getcwd()\n",
    "f=open(os.path.join(input_dir, inp_fname), \"r\")\n",
    "\n",
    "# puts the data into a list array Nx3, and removes newlines\n",
    "lines = [line.rstrip('\\n') for line in f]\n",
    "\n",
    "\n",
    "def split(word): return [char for char in word]\n",
    "\n",
    "all_items = []\n",
    "for line in lines:\n",
    "    # strips whitespace\n",
    "    items = line.replace(\" \",\"\")\n",
    "    items = items.split(\",\")\n",
    "    seq_split = split(items[-1])\n",
    "    items = items[:-1] + seq_split\n",
    "    all_items.append(items)\n",
    "\n",
    "data_array = np.asarray(all_items)\n",
    "\n",
    "data = pd.DataFrame(data_array, columns=cols)\n",
    "data.head()"
   ]
  },
  {
   "cell_type": "code",
   "execution_count": 16,
   "id": "9f153370",
   "metadata": {},
   "outputs": [
    {
     "data": {
      "text/plain": [
       "(3190, 62)"
      ]
     },
     "execution_count": 16,
     "metadata": {},
     "output_type": "execute_result"
    }
   ],
   "source": [
    "data.shape"
   ]
  },
  {
   "cell_type": "code",
   "execution_count": 17,
   "id": "cc1cd9a5",
   "metadata": {},
   "outputs": [],
   "source": [
    "id_col = \"Instance\"\n",
    "target_col = \"Class\""
   ]
  },
  {
   "cell_type": "markdown",
   "id": "988d8623",
   "metadata": {},
   "source": [
    "# Remove duplicate instances"
   ]
  },
  {
   "cell_type": "code",
   "execution_count": 18,
   "id": "02ca36ae",
   "metadata": {},
   "outputs": [
    {
     "data": {
      "text/plain": [
       "(3178, 62)"
      ]
     },
     "execution_count": 18,
     "metadata": {},
     "output_type": "execute_result"
    }
   ],
   "source": [
    "# Instance field is not unique. We will keep the first sample, and drop others\n",
    "data.drop_duplicates(id_col, keep=\"first\", inplace=True)\n",
    "data.shape"
   ]
  },
  {
   "cell_type": "markdown",
   "id": "6d59e5ee",
   "metadata": {},
   "source": [
    "# Insert Id Column"
   ]
  },
  {
   "cell_type": "code",
   "execution_count": 19,
   "id": "d1531fc6",
   "metadata": {},
   "outputs": [],
   "source": [
    "# insert Id column \n",
    "if id_col not in data.columns:\n",
    "    N = data.shape[0]\n",
    "    data.insert(0, id_col, np.arange(N))\n",
    "    print(data.head())\n",
    "data[id_col] = data[id_col].astype(str)"
   ]
  },
  {
   "cell_type": "markdown",
   "id": "eee0d52f",
   "metadata": {},
   "source": [
    "# Save Main Data File"
   ]
  },
  {
   "cell_type": "code",
   "execution_count": 20,
   "id": "5ab3560e",
   "metadata": {},
   "outputs": [],
   "source": [
    "data.to_csv(outp_fname, index=False)"
   ]
  },
  {
   "cell_type": "code",
   "execution_count": null,
   "id": "8544354b",
   "metadata": {},
   "outputs": [],
   "source": []
  }
 ],
 "metadata": {
  "kernelspec": {
   "display_name": "Python 3 (ipykernel)",
   "language": "python",
   "name": "python3"
  },
  "language_info": {
   "codemirror_mode": {
    "name": "ipython",
    "version": 3
   },
   "file_extension": ".py",
   "mimetype": "text/x-python",
   "name": "python",
   "nbconvert_exporter": "python",
   "pygments_lexer": "ipython3",
   "version": "3.9.13"
  }
 },
 "nbformat": 4,
 "nbformat_minor": 5
}
