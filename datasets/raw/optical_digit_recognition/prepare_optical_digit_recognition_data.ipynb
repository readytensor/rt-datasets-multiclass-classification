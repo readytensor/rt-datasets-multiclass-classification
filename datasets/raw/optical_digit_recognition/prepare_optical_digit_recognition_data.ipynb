{
 "cells": [
  {
   "cell_type": "code",
   "execution_count": 16,
   "id": "692de854",
   "metadata": {},
   "outputs": [],
   "source": [
    "import numpy as np\n",
    "import pandas as pd\n",
    "import os, sys"
   ]
  },
  {
   "cell_type": "code",
   "execution_count": 17,
   "id": "46711af1",
   "metadata": {},
   "outputs": [],
   "source": [
    "dataset_name = 'optical_digit_recognition'\n",
    "inp_fname1 = 'optdigits.tra'\n",
    "inp_fname2 = 'optdigits.tes'"
   ]
  },
  {
   "cell_type": "code",
   "execution_count": 18,
   "id": "e5994fbf",
   "metadata": {},
   "outputs": [],
   "source": [
    "input_dir = './data'\n",
    "output_dir = f'./../../processed/{dataset_name}/'\n",
    "outp_fname = os.path.join(output_dir, f'{dataset_name}.csv')"
   ]
  },
  {
   "cell_type": "markdown",
   "id": "a6290e1d",
   "metadata": {},
   "source": [
    "# Read Data"
   ]
  },
  {
   "cell_type": "code",
   "execution_count": 19,
   "id": "d50a0d49",
   "metadata": {},
   "outputs": [
    {
     "name": "stdout",
     "output_type": "stream",
     "text": [
      "['block_0', 'block_1', 'block_2', 'block_3', 'block_4', 'block_5', 'block_6', 'block_7', 'block_8', 'block_9', 'block_10', 'block_11', 'block_12', 'block_13', 'block_14', 'block_15', 'block_16', 'block_17', 'block_18', 'block_19', 'block_20', 'block_21', 'block_22', 'block_23', 'block_24', 'block_25', 'block_26', 'block_27', 'block_28', 'block_29', 'block_30', 'block_31', 'block_32', 'block_33', 'block_34', 'block_35', 'block_36', 'block_37', 'block_38', 'block_39', 'block_40', 'block_41', 'block_42', 'block_43', 'block_44', 'block_45', 'block_46', 'block_47', 'block_48', 'block_49', 'block_50', 'block_51', 'block_52', 'block_53', 'block_54', 'block_55', 'block_56', 'block_57', 'block_58', 'block_59', 'block_60', 'block_61', 'block_62', 'block_63', 'digit']\n",
      "65\n"
     ]
    }
   ],
   "source": [
    "col_names = [f\"block_{i}\" for i in range(64)] + [\"digit\"]\n",
    "print(col_names)\n",
    "print(len(col_names))"
   ]
  },
  {
   "cell_type": "code",
   "execution_count": 20,
   "id": "d6f0ffd8",
   "metadata": {},
   "outputs": [
    {
     "data": {
      "text/html": [
       "<div>\n",
       "<style scoped>\n",
       "    .dataframe tbody tr th:only-of-type {\n",
       "        vertical-align: middle;\n",
       "    }\n",
       "\n",
       "    .dataframe tbody tr th {\n",
       "        vertical-align: top;\n",
       "    }\n",
       "\n",
       "    .dataframe thead th {\n",
       "        text-align: right;\n",
       "    }\n",
       "</style>\n",
       "<table border=\"1\" class=\"dataframe\">\n",
       "  <thead>\n",
       "    <tr style=\"text-align: right;\">\n",
       "      <th></th>\n",
       "      <th>block_0</th>\n",
       "      <th>block_1</th>\n",
       "      <th>block_2</th>\n",
       "      <th>block_3</th>\n",
       "      <th>block_4</th>\n",
       "      <th>block_5</th>\n",
       "      <th>block_6</th>\n",
       "      <th>block_7</th>\n",
       "      <th>block_8</th>\n",
       "      <th>block_9</th>\n",
       "      <th>...</th>\n",
       "      <th>block_55</th>\n",
       "      <th>block_56</th>\n",
       "      <th>block_57</th>\n",
       "      <th>block_58</th>\n",
       "      <th>block_59</th>\n",
       "      <th>block_60</th>\n",
       "      <th>block_61</th>\n",
       "      <th>block_62</th>\n",
       "      <th>block_63</th>\n",
       "      <th>digit</th>\n",
       "    </tr>\n",
       "  </thead>\n",
       "  <tbody>\n",
       "    <tr>\n",
       "      <th>0</th>\n",
       "      <td>0</td>\n",
       "      <td>1</td>\n",
       "      <td>6</td>\n",
       "      <td>15</td>\n",
       "      <td>12</td>\n",
       "      <td>1</td>\n",
       "      <td>0</td>\n",
       "      <td>0</td>\n",
       "      <td>0</td>\n",
       "      <td>7</td>\n",
       "      <td>...</td>\n",
       "      <td>0</td>\n",
       "      <td>0</td>\n",
       "      <td>0</td>\n",
       "      <td>6</td>\n",
       "      <td>14</td>\n",
       "      <td>7</td>\n",
       "      <td>1</td>\n",
       "      <td>0</td>\n",
       "      <td>0</td>\n",
       "      <td>0</td>\n",
       "    </tr>\n",
       "    <tr>\n",
       "      <th>1</th>\n",
       "      <td>0</td>\n",
       "      <td>0</td>\n",
       "      <td>10</td>\n",
       "      <td>16</td>\n",
       "      <td>6</td>\n",
       "      <td>0</td>\n",
       "      <td>0</td>\n",
       "      <td>0</td>\n",
       "      <td>0</td>\n",
       "      <td>7</td>\n",
       "      <td>...</td>\n",
       "      <td>0</td>\n",
       "      <td>0</td>\n",
       "      <td>0</td>\n",
       "      <td>10</td>\n",
       "      <td>16</td>\n",
       "      <td>15</td>\n",
       "      <td>3</td>\n",
       "      <td>0</td>\n",
       "      <td>0</td>\n",
       "      <td>0</td>\n",
       "    </tr>\n",
       "    <tr>\n",
       "      <th>2</th>\n",
       "      <td>0</td>\n",
       "      <td>0</td>\n",
       "      <td>8</td>\n",
       "      <td>15</td>\n",
       "      <td>16</td>\n",
       "      <td>13</td>\n",
       "      <td>0</td>\n",
       "      <td>0</td>\n",
       "      <td>0</td>\n",
       "      <td>1</td>\n",
       "      <td>...</td>\n",
       "      <td>0</td>\n",
       "      <td>0</td>\n",
       "      <td>0</td>\n",
       "      <td>9</td>\n",
       "      <td>14</td>\n",
       "      <td>0</td>\n",
       "      <td>0</td>\n",
       "      <td>0</td>\n",
       "      <td>0</td>\n",
       "      <td>7</td>\n",
       "    </tr>\n",
       "    <tr>\n",
       "      <th>3</th>\n",
       "      <td>0</td>\n",
       "      <td>0</td>\n",
       "      <td>0</td>\n",
       "      <td>3</td>\n",
       "      <td>11</td>\n",
       "      <td>16</td>\n",
       "      <td>0</td>\n",
       "      <td>0</td>\n",
       "      <td>0</td>\n",
       "      <td>0</td>\n",
       "      <td>...</td>\n",
       "      <td>0</td>\n",
       "      <td>0</td>\n",
       "      <td>0</td>\n",
       "      <td>0</td>\n",
       "      <td>1</td>\n",
       "      <td>15</td>\n",
       "      <td>2</td>\n",
       "      <td>0</td>\n",
       "      <td>0</td>\n",
       "      <td>4</td>\n",
       "    </tr>\n",
       "    <tr>\n",
       "      <th>4</th>\n",
       "      <td>0</td>\n",
       "      <td>0</td>\n",
       "      <td>5</td>\n",
       "      <td>14</td>\n",
       "      <td>4</td>\n",
       "      <td>0</td>\n",
       "      <td>0</td>\n",
       "      <td>0</td>\n",
       "      <td>0</td>\n",
       "      <td>0</td>\n",
       "      <td>...</td>\n",
       "      <td>0</td>\n",
       "      <td>0</td>\n",
       "      <td>0</td>\n",
       "      <td>4</td>\n",
       "      <td>12</td>\n",
       "      <td>14</td>\n",
       "      <td>7</td>\n",
       "      <td>0</td>\n",
       "      <td>0</td>\n",
       "      <td>6</td>\n",
       "    </tr>\n",
       "  </tbody>\n",
       "</table>\n",
       "<p>5 rows × 65 columns</p>\n",
       "</div>"
      ],
      "text/plain": [
       "   block_0  block_1  block_2  block_3  block_4  block_5  block_6  block_7  \\\n",
       "0        0        1        6       15       12        1        0        0   \n",
       "1        0        0       10       16        6        0        0        0   \n",
       "2        0        0        8       15       16       13        0        0   \n",
       "3        0        0        0        3       11       16        0        0   \n",
       "4        0        0        5       14        4        0        0        0   \n",
       "\n",
       "   block_8  block_9  ...  block_55  block_56  block_57  block_58  block_59  \\\n",
       "0        0        7  ...         0         0         0         6        14   \n",
       "1        0        7  ...         0         0         0        10        16   \n",
       "2        0        1  ...         0         0         0         9        14   \n",
       "3        0        0  ...         0         0         0         0         1   \n",
       "4        0        0  ...         0         0         0         4        12   \n",
       "\n",
       "   block_60  block_61  block_62  block_63  digit  \n",
       "0         7         1         0         0      0  \n",
       "1        15         3         0         0      0  \n",
       "2         0         0         0         0      7  \n",
       "3        15         2         0         0      4  \n",
       "4        14         7         0         0      6  \n",
       "\n",
       "[5 rows x 65 columns]"
      ]
     },
     "execution_count": 20,
     "metadata": {},
     "output_type": "execute_result"
    }
   ],
   "source": [
    "data1 = pd.read_csv(os.path.join(input_dir, inp_fname1), header=None, )\n",
    "# data1.head()\n",
    "\n",
    "data2 = pd.read_csv(os.path.join(input_dir, inp_fname2), header=None, )\n",
    "# data2.head()\n",
    "\n",
    "data = pd.concat([data1, data2], ignore_index=True)\n",
    "data.columns = col_names\n",
    "data.head()"
   ]
  },
  {
   "cell_type": "code",
   "execution_count": 21,
   "id": "4871089d",
   "metadata": {},
   "outputs": [
    {
     "data": {
      "text/plain": [
       "(5620, 65)"
      ]
     },
     "execution_count": 21,
     "metadata": {},
     "output_type": "execute_result"
    }
   ],
   "source": [
    "data.shape"
   ]
  },
  {
   "cell_type": "code",
   "execution_count": 22,
   "id": "cc1cd9a5",
   "metadata": {},
   "outputs": [],
   "source": [
    "id_col = \"id\"\n",
    "target_col = \"digit\""
   ]
  },
  {
   "cell_type": "markdown",
   "id": "6d59e5ee",
   "metadata": {},
   "source": [
    "# Insert Id Column"
   ]
  },
  {
   "cell_type": "code",
   "execution_count": 23,
   "id": "d1531fc6",
   "metadata": {},
   "outputs": [
    {
     "name": "stdout",
     "output_type": "stream",
     "text": [
      "   id  block_0  block_1  block_2  block_3  block_4  block_5  block_6  block_7  \\\n",
      "0   0        0        1        6       15       12        1        0        0   \n",
      "1   1        0        0       10       16        6        0        0        0   \n",
      "2   2        0        0        8       15       16       13        0        0   \n",
      "3   3        0        0        0        3       11       16        0        0   \n",
      "4   4        0        0        5       14        4        0        0        0   \n",
      "\n",
      "   block_8  ...  block_55  block_56  block_57  block_58  block_59  block_60  \\\n",
      "0        0  ...         0         0         0         6        14         7   \n",
      "1        0  ...         0         0         0        10        16        15   \n",
      "2        0  ...         0         0         0         9        14         0   \n",
      "3        0  ...         0         0         0         0         1        15   \n",
      "4        0  ...         0         0         0         4        12        14   \n",
      "\n",
      "   block_61  block_62  block_63  digit  \n",
      "0         1         0         0      0  \n",
      "1         3         0         0      0  \n",
      "2         0         0         0      7  \n",
      "3         2         0         0      4  \n",
      "4         7         0         0      6  \n",
      "\n",
      "[5 rows x 66 columns]\n"
     ]
    }
   ],
   "source": [
    "# insert Id column \n",
    "if id_col not in data.columns:\n",
    "    N = data.shape[0]\n",
    "    data.insert(0, id_col, np.arange(N))\n",
    "    print(data.head())\n",
    "data[id_col] = data[id_col].astype(str)"
   ]
  },
  {
   "cell_type": "markdown",
   "id": "eee0d52f",
   "metadata": {},
   "source": [
    "# Save Main Data File"
   ]
  },
  {
   "cell_type": "code",
   "execution_count": 24,
   "id": "5ab3560e",
   "metadata": {},
   "outputs": [],
   "source": [
    "data.to_csv(outp_fname, index=False)"
   ]
  },
  {
   "cell_type": "code",
   "execution_count": null,
   "id": "8544354b",
   "metadata": {},
   "outputs": [],
   "source": []
  }
 ],
 "metadata": {
  "kernelspec": {
   "display_name": "Python 3 (ipykernel)",
   "language": "python",
   "name": "python3"
  },
  "language_info": {
   "codemirror_mode": {
    "name": "ipython",
    "version": 3
   },
   "file_extension": ".py",
   "mimetype": "text/x-python",
   "name": "python",
   "nbconvert_exporter": "python",
   "pygments_lexer": "ipython3",
   "version": "3.9.13"
  }
 },
 "nbformat": 4,
 "nbformat_minor": 5
}
