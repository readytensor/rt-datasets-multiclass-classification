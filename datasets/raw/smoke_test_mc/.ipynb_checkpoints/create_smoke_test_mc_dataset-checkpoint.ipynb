{
 "cells": [
  {
   "cell_type": "markdown",
   "id": "9254a0e8",
   "metadata": {},
   "source": [
    "# Smoke-Test Dataset for Multiclass Classification\n",
    "\n",
    "This synthetic dataset presents a multiclass classification problem based on two types of features and a target with three classes. Each sample in the dataset has a unique identifier, a set of two features (color, number), and a target class label.\n",
    "\n",
    "The first feature 'color' is a categorical feature, with three possible values: Red, Green, and Blue. These values are evenly and randomly distributed across the dataset.\n",
    "\n",
    "The second feature 'number' is a continuous feature, with values drawn from a uniform distribution between 1 and 100 inclusive. Each feature value is independent of the others.\n",
    "\n",
    "The class label for each sample is determined by the combination of both the categorical and numerical features. If the color is 'Red' and the number is greater than 50, the sample is labeled as Class 2. If the color is 'Green' and the number is less than or equal to 50, the sample is labeled as Class 1. All other combinations are labeled as Class 0. This forms a multiclass classification problem, where the task is to classify samples based on the combination of their color and number features.\n",
    "\n",
    "The identifiers for the samples are randomly generated alphanumeric strings. They are used to uniquely identify each sample in the dataset.\n",
    "\n",
    "Additionally, to add complexity to the dataset, approximately 10% of the data points in each feature are replaced with missing values. Furthermore, the first row always contains a missing value in either of the two features randomly, to ensure the presence of missing data even for smaller datasets.\n",
    "\n",
    "In summary, this dataset presents a multiclass classification problem, where the task is to classify samples based on the combination of a categorical and numerical feature, while also dealing with missing data. The relationship between the features and target is known, however, the presence of missing values introduces complexity and makes it a challenging task for multiclass classification algorithms.\n"
   ]
  },
  {
   "cell_type": "code",
   "execution_count": 25,
   "id": "e6694f84",
   "metadata": {},
   "outputs": [],
   "source": [
    "import numpy as np\n",
    "import pandas as pd\n",
    "import os\n",
    "import sys\n",
    "import random\n",
    "import string"
   ]
  },
  {
   "cell_type": "code",
   "execution_count": 26,
   "id": "fa552c96",
   "metadata": {},
   "outputs": [],
   "source": [
    "dataset_name = \"smoke_test_mc\""
   ]
  },
  {
   "cell_type": "code",
   "execution_count": 27,
   "id": "30bfb347",
   "metadata": {},
   "outputs": [],
   "source": [
    "output_dir = f'./../../processed/{dataset_name}/'\n",
    "outp_fname = os.path.join(output_dir, f'{dataset_name}.csv')"
   ]
  },
  {
   "cell_type": "markdown",
   "id": "381bcab1",
   "metadata": {},
   "source": [
    "# Generation functions"
   ]
  },
  {
   "cell_type": "code",
   "execution_count": 28,
   "id": "10a1060e",
   "metadata": {},
   "outputs": [],
   "source": [
    "def set_seed(seed_value):\n",
    "    np.random.seed(seed_value)\n",
    "    random.seed(seed_value)"
   ]
  },
  {
   "cell_type": "code",
   "execution_count": 29,
   "id": "95c7797a",
   "metadata": {},
   "outputs": [],
   "source": [
    "def generate_id(size=6, chars=string.ascii_uppercase + string.digits):\n",
    "    return ''.join(random.choice(chars) for _ in range(size))"
   ]
  },
  {
   "cell_type": "code",
   "execution_count": 30,
   "id": "fa42d952",
   "metadata": {},
   "outputs": [],
   "source": [
    "def create_dataset(num_rows, seed_value=42):\n",
    "    # Generating unique ids\n",
    "    ids = [generate_id() for _ in range(num_rows)]\n",
    "\n",
    "    # Generating categorical feature with 3 categories\n",
    "    colors = np.random.choice(['Red', 'Green', 'Blue'], size=num_rows)\n",
    "\n",
    "    # Generating numeric feature from 1 to 100\n",
    "    numbers = np.random.choice(list(range(1, 101)), size=num_rows)\n",
    "\n",
    "    # Creating target based on rules\n",
    "    # color is Red and number > 50 - class 2\n",
    "    # color is Green and number <= 50 - class 1\n",
    "    # otherwise - class 0\n",
    "    target = []\n",
    "    for color, number in zip(colors, numbers):\n",
    "        if color == 'Red' and number > 50:\n",
    "            target.append(2)\n",
    "        elif color == 'Green' and number <= 50:\n",
    "            target.append(1)\n",
    "        else:\n",
    "            target.append(0)\n",
    "\n",
    "    # Create DataFrame\n",
    "    df = pd.DataFrame({'id': ids, 'color': colors, 'number': numbers, 'target': target})\n",
    "\n",
    "    # Introduce missing values by setting 10% of each feature to NaN\n",
    "    for column in ['color', 'number']:\n",
    "        missing_rows = np.random.choice(df.index, size=int(num_rows * 0.1), replace=False)\n",
    "        df.loc[missing_rows, column] = np.nan\n",
    "\n",
    "    # Make sure the first row has a null value in either of the two features\n",
    "    first_missing_feature = np.random.choice(['color', 'number'])\n",
    "    df.loc[0, first_missing_feature] = np.nan\n",
    "\n",
    "    return df"
   ]
  },
  {
   "cell_type": "markdown",
   "id": "0b296cb4",
   "metadata": {},
   "source": [
    "# Create Data"
   ]
  },
  {
   "cell_type": "code",
   "execution_count": 31,
   "id": "7a57b51d",
   "metadata": {},
   "outputs": [
    {
     "data": {
      "text/html": [
       "<div>\n",
       "<style scoped>\n",
       "    .dataframe tbody tr th:only-of-type {\n",
       "        vertical-align: middle;\n",
       "    }\n",
       "\n",
       "    .dataframe tbody tr th {\n",
       "        vertical-align: top;\n",
       "    }\n",
       "\n",
       "    .dataframe thead th {\n",
       "        text-align: right;\n",
       "    }\n",
       "</style>\n",
       "<table border=\"1\" class=\"dataframe\">\n",
       "  <thead>\n",
       "    <tr style=\"text-align: right;\">\n",
       "      <th></th>\n",
       "      <th>id</th>\n",
       "      <th>color</th>\n",
       "      <th>number</th>\n",
       "      <th>target</th>\n",
       "    </tr>\n",
       "  </thead>\n",
       "  <tbody>\n",
       "    <tr>\n",
       "      <th>0</th>\n",
       "      <td>DFFXKT</td>\n",
       "      <td>NaN</td>\n",
       "      <td>NaN</td>\n",
       "      <td>2</td>\n",
       "    </tr>\n",
       "    <tr>\n",
       "      <th>1</th>\n",
       "      <td>QNCK1Z</td>\n",
       "      <td>Green</td>\n",
       "      <td>53.0</td>\n",
       "      <td>0</td>\n",
       "    </tr>\n",
       "    <tr>\n",
       "      <th>2</th>\n",
       "      <td>6X826R</td>\n",
       "      <td>Red</td>\n",
       "      <td>63.0</td>\n",
       "      <td>2</td>\n",
       "    </tr>\n",
       "    <tr>\n",
       "      <th>3</th>\n",
       "      <td>CBX3UY</td>\n",
       "      <td>Blue</td>\n",
       "      <td>27.0</td>\n",
       "      <td>0</td>\n",
       "    </tr>\n",
       "    <tr>\n",
       "      <th>4</th>\n",
       "      <td>17K9LP</td>\n",
       "      <td>Blue</td>\n",
       "      <td>84.0</td>\n",
       "      <td>0</td>\n",
       "    </tr>\n",
       "    <tr>\n",
       "      <th>5</th>\n",
       "      <td>OBLULI</td>\n",
       "      <td>Red</td>\n",
       "      <td>26.0</td>\n",
       "      <td>0</td>\n",
       "    </tr>\n",
       "    <tr>\n",
       "      <th>6</th>\n",
       "      <td>66X69L</td>\n",
       "      <td>Blue</td>\n",
       "      <td>37.0</td>\n",
       "      <td>0</td>\n",
       "    </tr>\n",
       "    <tr>\n",
       "      <th>7</th>\n",
       "      <td>207XWX</td>\n",
       "      <td>Green</td>\n",
       "      <td>NaN</td>\n",
       "      <td>1</td>\n",
       "    </tr>\n",
       "    <tr>\n",
       "      <th>8</th>\n",
       "      <td>2KZ37P</td>\n",
       "      <td>Green</td>\n",
       "      <td>86.0</td>\n",
       "      <td>0</td>\n",
       "    </tr>\n",
       "    <tr>\n",
       "      <th>9</th>\n",
       "      <td>5R566W</td>\n",
       "      <td>Blue</td>\n",
       "      <td>19.0</td>\n",
       "      <td>0</td>\n",
       "    </tr>\n",
       "  </tbody>\n",
       "</table>\n",
       "</div>"
      ],
      "text/plain": [
       "       id  color  number  target\n",
       "0  DFFXKT    NaN     NaN       2\n",
       "1  QNCK1Z  Green    53.0       0\n",
       "2  6X826R    Red    63.0       2\n",
       "3  CBX3UY   Blue    27.0       0\n",
       "4  17K9LP   Blue    84.0       0\n",
       "5  OBLULI    Red    26.0       0\n",
       "6  66X69L   Blue    37.0       0\n",
       "7  207XWX  Green     NaN       1\n",
       "8  2KZ37P  Green    86.0       0\n",
       "9  5R566W   Blue    19.0       0"
      ]
     },
     "execution_count": 31,
     "metadata": {},
     "output_type": "execute_result"
    }
   ],
   "source": [
    "set_seed(seed_value=2)\n",
    "data = create_dataset(200)\n",
    "data.head(10)"
   ]
  },
  {
   "cell_type": "code",
   "execution_count": 33,
   "id": "9137d791",
   "metadata": {},
   "outputs": [
    {
     "data": {
      "text/plain": [
       "(200, 4)"
      ]
     },
     "execution_count": 33,
     "metadata": {},
     "output_type": "execute_result"
    }
   ],
   "source": [
    "data.shape"
   ]
  },
  {
   "cell_type": "markdown",
   "id": "29319a2b",
   "metadata": {},
   "source": [
    "# Save Main Data File"
   ]
  },
  {
   "cell_type": "code",
   "execution_count": 34,
   "id": "4caae6e7",
   "metadata": {},
   "outputs": [],
   "source": [
    "data.to_csv(outp_fname, index=False)"
   ]
  },
  {
   "cell_type": "code",
   "execution_count": null,
   "id": "535730fd",
   "metadata": {},
   "outputs": [],
   "source": []
  }
 ],
 "metadata": {
  "kernelspec": {
   "display_name": "Python 3 (ipykernel)",
   "language": "python",
   "name": "python3"
  },
  "language_info": {
   "codemirror_mode": {
    "name": "ipython",
    "version": 3
   },
   "file_extension": ".py",
   "mimetype": "text/x-python",
   "name": "python",
   "nbconvert_exporter": "python",
   "pygments_lexer": "ipython3",
   "version": "3.9.13"
  }
 },
 "nbformat": 4,
 "nbformat_minor": 5
}
