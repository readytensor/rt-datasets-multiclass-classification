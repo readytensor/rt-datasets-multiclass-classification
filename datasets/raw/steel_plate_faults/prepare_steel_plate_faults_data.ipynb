{
 "cells": [
  {
   "cell_type": "code",
   "execution_count": 117,
   "id": "692de854",
   "metadata": {},
   "outputs": [],
   "source": [
    "import numpy as np\n",
    "import pandas as pd\n",
    "import os, sys"
   ]
  },
  {
   "cell_type": "code",
   "execution_count": 118,
   "id": "46711af1",
   "metadata": {},
   "outputs": [],
   "source": [
    "dataset_name = 'steel_plate_faults'\n",
    "inp_fname = 'Faults.NNA'"
   ]
  },
  {
   "cell_type": "code",
   "execution_count": 119,
   "id": "e5994fbf",
   "metadata": {},
   "outputs": [],
   "source": [
    "input_dir = './data'\n",
    "output_dir = f'./../../processed/{dataset_name}/'\n",
    "outp_fname = os.path.join(output_dir, f'{dataset_name}.csv')"
   ]
  },
  {
   "cell_type": "markdown",
   "id": "a6290e1d",
   "metadata": {},
   "source": [
    "# Read Data"
   ]
  },
  {
   "cell_type": "code",
   "execution_count": 120,
   "id": "e909214c",
   "metadata": {},
   "outputs": [],
   "source": [
    "cols = [\n",
    "    'X_Minimum', \n",
    "    'X_Maximum', \n",
    "    'Y_Minimum', \n",
    "    'Y_Maximum', \n",
    "    'Pixels_Areas', \n",
    "    'X_Perimeter', \n",
    "    'Y_Perimeter', \n",
    "    'Sum_of_Luminosity', \n",
    "    'Minimum_of_Luminosity', \n",
    "    'Maximum_of_Luminosity', \n",
    "    'Length_of_Conveyer', \n",
    "    'TypeOfSteel_A300', \n",
    "    'TypeOfSteel_A400', \n",
    "    'Steel_Plate_Thickness', \n",
    "    'Edges_Index', \n",
    "    'Empty_Index', \n",
    "    'Square_Index', \n",
    "    'Outside_X_Index', \n",
    "    'Edges_X_Index', \n",
    "    'Edges_Y_Index', \n",
    "    'Outside_Global_Index', \n",
    "    'LogOfAreas', \n",
    "    'Log_X_Index', \n",
    "    'Log_Y_Index', \n",
    "    'Orientation_Index', \n",
    "    'Luminosity_Index', \n",
    "    'SigmoidOfAreas', \n",
    "    'Pastry', \n",
    "    'Z_Scratch', \n",
    "    'K_Scatch', \n",
    "    'Stains', \n",
    "    'Dirtiness', \n",
    "    'Bumps', \n",
    "    'Other_Faults', \n",
    "]"
   ]
  },
  {
   "cell_type": "code",
   "execution_count": 121,
   "id": "2ae3115f",
   "metadata": {},
   "outputs": [
    {
     "data": {
      "text/html": [
       "<div>\n",
       "<style scoped>\n",
       "    .dataframe tbody tr th:only-of-type {\n",
       "        vertical-align: middle;\n",
       "    }\n",
       "\n",
       "    .dataframe tbody tr th {\n",
       "        vertical-align: top;\n",
       "    }\n",
       "\n",
       "    .dataframe thead th {\n",
       "        text-align: right;\n",
       "    }\n",
       "</style>\n",
       "<table border=\"1\" class=\"dataframe\">\n",
       "  <thead>\n",
       "    <tr style=\"text-align: right;\">\n",
       "      <th></th>\n",
       "      <th>X_Minimum</th>\n",
       "      <th>X_Maximum</th>\n",
       "      <th>Y_Minimum</th>\n",
       "      <th>Y_Maximum</th>\n",
       "      <th>Pixels_Areas</th>\n",
       "      <th>X_Perimeter</th>\n",
       "      <th>Y_Perimeter</th>\n",
       "      <th>Sum_of_Luminosity</th>\n",
       "      <th>Minimum_of_Luminosity</th>\n",
       "      <th>Maximum_of_Luminosity</th>\n",
       "      <th>...</th>\n",
       "      <th>Orientation_Index</th>\n",
       "      <th>Luminosity_Index</th>\n",
       "      <th>SigmoidOfAreas</th>\n",
       "      <th>Pastry</th>\n",
       "      <th>Z_Scratch</th>\n",
       "      <th>K_Scatch</th>\n",
       "      <th>Stains</th>\n",
       "      <th>Dirtiness</th>\n",
       "      <th>Bumps</th>\n",
       "      <th>Other_Faults</th>\n",
       "    </tr>\n",
       "  </thead>\n",
       "  <tbody>\n",
       "    <tr>\n",
       "      <th>0</th>\n",
       "      <td>42</td>\n",
       "      <td>50</td>\n",
       "      <td>270900</td>\n",
       "      <td>270944</td>\n",
       "      <td>267</td>\n",
       "      <td>17</td>\n",
       "      <td>44</td>\n",
       "      <td>24220</td>\n",
       "      <td>76</td>\n",
       "      <td>108</td>\n",
       "      <td>...</td>\n",
       "      <td>0.8182</td>\n",
       "      <td>-0.2913</td>\n",
       "      <td>0.5822</td>\n",
       "      <td>1</td>\n",
       "      <td>0</td>\n",
       "      <td>0</td>\n",
       "      <td>0</td>\n",
       "      <td>0</td>\n",
       "      <td>0</td>\n",
       "      <td>0</td>\n",
       "    </tr>\n",
       "    <tr>\n",
       "      <th>1</th>\n",
       "      <td>645</td>\n",
       "      <td>651</td>\n",
       "      <td>2538079</td>\n",
       "      <td>2538108</td>\n",
       "      <td>108</td>\n",
       "      <td>10</td>\n",
       "      <td>30</td>\n",
       "      <td>11397</td>\n",
       "      <td>84</td>\n",
       "      <td>123</td>\n",
       "      <td>...</td>\n",
       "      <td>0.7931</td>\n",
       "      <td>-0.1756</td>\n",
       "      <td>0.2984</td>\n",
       "      <td>1</td>\n",
       "      <td>0</td>\n",
       "      <td>0</td>\n",
       "      <td>0</td>\n",
       "      <td>0</td>\n",
       "      <td>0</td>\n",
       "      <td>0</td>\n",
       "    </tr>\n",
       "    <tr>\n",
       "      <th>2</th>\n",
       "      <td>829</td>\n",
       "      <td>835</td>\n",
       "      <td>1553913</td>\n",
       "      <td>1553931</td>\n",
       "      <td>71</td>\n",
       "      <td>8</td>\n",
       "      <td>19</td>\n",
       "      <td>7972</td>\n",
       "      <td>99</td>\n",
       "      <td>125</td>\n",
       "      <td>...</td>\n",
       "      <td>0.6667</td>\n",
       "      <td>-0.1228</td>\n",
       "      <td>0.2150</td>\n",
       "      <td>1</td>\n",
       "      <td>0</td>\n",
       "      <td>0</td>\n",
       "      <td>0</td>\n",
       "      <td>0</td>\n",
       "      <td>0</td>\n",
       "      <td>0</td>\n",
       "    </tr>\n",
       "    <tr>\n",
       "      <th>3</th>\n",
       "      <td>853</td>\n",
       "      <td>860</td>\n",
       "      <td>369370</td>\n",
       "      <td>369415</td>\n",
       "      <td>176</td>\n",
       "      <td>13</td>\n",
       "      <td>45</td>\n",
       "      <td>18996</td>\n",
       "      <td>99</td>\n",
       "      <td>126</td>\n",
       "      <td>...</td>\n",
       "      <td>0.8444</td>\n",
       "      <td>-0.1568</td>\n",
       "      <td>0.5212</td>\n",
       "      <td>1</td>\n",
       "      <td>0</td>\n",
       "      <td>0</td>\n",
       "      <td>0</td>\n",
       "      <td>0</td>\n",
       "      <td>0</td>\n",
       "      <td>0</td>\n",
       "    </tr>\n",
       "    <tr>\n",
       "      <th>4</th>\n",
       "      <td>1289</td>\n",
       "      <td>1306</td>\n",
       "      <td>498078</td>\n",
       "      <td>498335</td>\n",
       "      <td>2409</td>\n",
       "      <td>60</td>\n",
       "      <td>260</td>\n",
       "      <td>246930</td>\n",
       "      <td>37</td>\n",
       "      <td>126</td>\n",
       "      <td>...</td>\n",
       "      <td>0.9338</td>\n",
       "      <td>-0.1992</td>\n",
       "      <td>1.0000</td>\n",
       "      <td>1</td>\n",
       "      <td>0</td>\n",
       "      <td>0</td>\n",
       "      <td>0</td>\n",
       "      <td>0</td>\n",
       "      <td>0</td>\n",
       "      <td>0</td>\n",
       "    </tr>\n",
       "  </tbody>\n",
       "</table>\n",
       "<p>5 rows × 34 columns</p>\n",
       "</div>"
      ],
      "text/plain": [
       "   X_Minimum  X_Maximum  Y_Minimum  Y_Maximum  Pixels_Areas  X_Perimeter  \\\n",
       "0         42         50     270900     270944           267           17   \n",
       "1        645        651    2538079    2538108           108           10   \n",
       "2        829        835    1553913    1553931            71            8   \n",
       "3        853        860     369370     369415           176           13   \n",
       "4       1289       1306     498078     498335          2409           60   \n",
       "\n",
       "   Y_Perimeter  Sum_of_Luminosity  Minimum_of_Luminosity  \\\n",
       "0           44              24220                     76   \n",
       "1           30              11397                     84   \n",
       "2           19               7972                     99   \n",
       "3           45              18996                     99   \n",
       "4          260             246930                     37   \n",
       "\n",
       "   Maximum_of_Luminosity  ...  Orientation_Index  Luminosity_Index  \\\n",
       "0                    108  ...             0.8182           -0.2913   \n",
       "1                    123  ...             0.7931           -0.1756   \n",
       "2                    125  ...             0.6667           -0.1228   \n",
       "3                    126  ...             0.8444           -0.1568   \n",
       "4                    126  ...             0.9338           -0.1992   \n",
       "\n",
       "   SigmoidOfAreas  Pastry  Z_Scratch  K_Scatch  Stains  Dirtiness  Bumps  \\\n",
       "0          0.5822       1          0         0       0          0      0   \n",
       "1          0.2984       1          0         0       0          0      0   \n",
       "2          0.2150       1          0         0       0          0      0   \n",
       "3          0.5212       1          0         0       0          0      0   \n",
       "4          1.0000       1          0         0       0          0      0   \n",
       "\n",
       "   Other_Faults  \n",
       "0             0  \n",
       "1             0  \n",
       "2             0  \n",
       "3             0  \n",
       "4             0  \n",
       "\n",
       "[5 rows x 34 columns]"
      ]
     },
     "execution_count": 121,
     "metadata": {},
     "output_type": "execute_result"
    }
   ],
   "source": [
    "data = pd.read_csv(os.path.join(input_dir, inp_fname),header=None, names=cols, sep=\"\\t\")\n",
    "data.head()"
   ]
  },
  {
   "cell_type": "code",
   "execution_count": 122,
   "id": "cc1cd9a5",
   "metadata": {},
   "outputs": [],
   "source": [
    "id_col = \"Id\"\n",
    "target_col = \"Fault_Type\""
   ]
  },
  {
   "cell_type": "markdown",
   "id": "765ada8b",
   "metadata": {},
   "source": [
    "# Convert OHE into categorical"
   ]
  },
  {
   "cell_type": "code",
   "execution_count": 123,
   "id": "b02e49d5",
   "metadata": {},
   "outputs": [],
   "source": [
    "def convert_ohe_cols_to_categorical(df, ohe_cols, categorized_col_name, drop_ohe_cols=True):\n",
    "    \"\"\"function does the opposite of one-hot-encoding\"\"\"\n",
    "    df[categorized_col_name] = df[ohe_cols].idxmax(axis=1)\n",
    "    if drop_ohe_cols:\n",
    "        df.drop(columns=ohe_cols, inplace=True)\n",
    "    return df"
   ]
  },
  {
   "cell_type": "code",
   "execution_count": 124,
   "id": "11763baa",
   "metadata": {},
   "outputs": [
    {
     "data": {
      "text/plain": [
       "(1941, 33)"
      ]
     },
     "execution_count": 124,
     "metadata": {},
     "output_type": "execute_result"
    }
   ],
   "source": [
    "# Two columns: TypeOfSteel_A300 and TypeOfSteel_A400 can be converted back to categorical \n",
    "ohe_cols = ['TypeOfSteel_A300', 'TypeOfSteel_A400']\n",
    "categorized_col_name = 'TypeOfSteel'\n",
    "\n",
    "data = convert_ohe_cols_to_categorical(data, ohe_cols, categorized_col_name)\n",
    "\n",
    "data[categorized_col_name] = data[categorized_col_name].map({\n",
    "    \"TypeOfSteel_A300\": \"A300\",\n",
    "    \"TypeOfSteel_A400\": \"A400\",\n",
    "})\n",
    "\n",
    "data.shape"
   ]
  },
  {
   "cell_type": "code",
   "execution_count": 125,
   "id": "fc378cf8",
   "metadata": {},
   "outputs": [
    {
     "data": {
      "text/plain": [
       "(1941, 27)"
      ]
     },
     "execution_count": 125,
     "metadata": {},
     "output_type": "execute_result"
    }
   ],
   "source": [
    "# OHE Target to be converted into categorical \n",
    "ohe_cols = ['Pastry', \n",
    "    'Z_Scratch', \n",
    "    'K_Scatch', \n",
    "    'Stains', \n",
    "    'Dirtiness', \n",
    "    'Bumps', \n",
    "    'Other_Faults']\n",
    "categorized_col_name = target_col\n",
    "data = convert_ohe_cols_to_categorical(data, ohe_cols, categorized_col_name)\n",
    "data.shape"
   ]
  },
  {
   "cell_type": "code",
   "execution_count": 126,
   "id": "2488c45d",
   "metadata": {},
   "outputs": [
    {
     "data": {
      "text/plain": [
       "Index(['X_Minimum', 'X_Maximum', 'Y_Minimum', 'Y_Maximum', 'Pixels_Areas',\n",
       "       'X_Perimeter', 'Y_Perimeter', 'Sum_of_Luminosity',\n",
       "       'Minimum_of_Luminosity', 'Maximum_of_Luminosity', 'Length_of_Conveyer',\n",
       "       'Steel_Plate_Thickness', 'Edges_Index', 'Empty_Index', 'Square_Index',\n",
       "       'Outside_X_Index', 'Edges_X_Index', 'Edges_Y_Index',\n",
       "       'Outside_Global_Index', 'LogOfAreas', 'Log_X_Index', 'Log_Y_Index',\n",
       "       'Orientation_Index', 'Luminosity_Index', 'SigmoidOfAreas',\n",
       "       'TypeOfSteel', 'Fault_Type'],\n",
       "      dtype='object')"
      ]
     },
     "execution_count": 126,
     "metadata": {},
     "output_type": "execute_result"
    }
   ],
   "source": [
    "data.columns"
   ]
  },
  {
   "cell_type": "code",
   "execution_count": 127,
   "id": "366d756d",
   "metadata": {},
   "outputs": [
    {
     "data": {
      "text/plain": [
       "(1941, 27)"
      ]
     },
     "execution_count": 127,
     "metadata": {},
     "output_type": "execute_result"
    }
   ],
   "source": [
    "data.shape"
   ]
  },
  {
   "cell_type": "markdown",
   "id": "6d59e5ee",
   "metadata": {},
   "source": [
    "# Insert Id Column"
   ]
  },
  {
   "cell_type": "code",
   "execution_count": 128,
   "id": "d1531fc6",
   "metadata": {},
   "outputs": [
    {
     "name": "stdout",
     "output_type": "stream",
     "text": [
      "   Id  X_Minimum  X_Maximum  Y_Minimum  Y_Maximum  Pixels_Areas  X_Perimeter  \\\n",
      "0   0         42         50     270900     270944           267           17   \n",
      "1   1        645        651    2538079    2538108           108           10   \n",
      "2   2        829        835    1553913    1553931            71            8   \n",
      "3   3        853        860     369370     369415           176           13   \n",
      "4   4       1289       1306     498078     498335          2409           60   \n",
      "\n",
      "   Y_Perimeter  Sum_of_Luminosity  Minimum_of_Luminosity  ...  Edges_Y_Index  \\\n",
      "0           44              24220                     76  ...         1.0000   \n",
      "1           30              11397                     84  ...         0.9667   \n",
      "2           19               7972                     99  ...         0.9474   \n",
      "3           45              18996                     99  ...         1.0000   \n",
      "4          260             246930                     37  ...         0.9885   \n",
      "\n",
      "   Outside_Global_Index  LogOfAreas  Log_X_Index  Log_Y_Index  \\\n",
      "0                   1.0      2.4265       0.9031       1.6435   \n",
      "1                   1.0      2.0334       0.7782       1.4624   \n",
      "2                   1.0      1.8513       0.7782       1.2553   \n",
      "3                   1.0      2.2455       0.8451       1.6532   \n",
      "4                   1.0      3.3818       1.2305       2.4099   \n",
      "\n",
      "   Orientation_Index  Luminosity_Index  SigmoidOfAreas  TypeOfSteel  \\\n",
      "0             0.8182           -0.2913          0.5822         A300   \n",
      "1             0.7931           -0.1756          0.2984         A300   \n",
      "2             0.6667           -0.1228          0.2150         A300   \n",
      "3             0.8444           -0.1568          0.5212         A400   \n",
      "4             0.9338           -0.1992          1.0000         A400   \n",
      "\n",
      "   Fault_Type  \n",
      "0      Pastry  \n",
      "1      Pastry  \n",
      "2      Pastry  \n",
      "3      Pastry  \n",
      "4      Pastry  \n",
      "\n",
      "[5 rows x 28 columns]\n"
     ]
    }
   ],
   "source": [
    "# insert Id column \n",
    "if id_col not in data.columns:\n",
    "    N = data.shape[0]\n",
    "    data.insert(0, id_col, np.arange(N))\n",
    "    print(data.head())\n",
    "data[id_col] = data[id_col].astype(str)"
   ]
  },
  {
   "cell_type": "markdown",
   "id": "eee0d52f",
   "metadata": {},
   "source": [
    "# Save Main Data File"
   ]
  },
  {
   "cell_type": "code",
   "execution_count": 129,
   "id": "5ab3560e",
   "metadata": {},
   "outputs": [],
   "source": [
    "data.to_csv(outp_fname, index=False)"
   ]
  },
  {
   "cell_type": "code",
   "execution_count": null,
   "id": "201b3fa0",
   "metadata": {},
   "outputs": [],
   "source": []
  }
 ],
 "metadata": {
  "kernelspec": {
   "display_name": "Python 3 (ipykernel)",
   "language": "python",
   "name": "python3"
  },
  "language_info": {
   "codemirror_mode": {
    "name": "ipython",
    "version": 3
   },
   "file_extension": ".py",
   "mimetype": "text/x-python",
   "name": "python",
   "nbconvert_exporter": "python",
   "pygments_lexer": "ipython3",
   "version": "3.9.13"
  }
 },
 "nbformat": 4,
 "nbformat_minor": 5
}
